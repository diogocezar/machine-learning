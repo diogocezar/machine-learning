{
 "cells": [
  {
   "cell_type": "markdown",
   "metadata": {
    "colab_type": "text",
    "id": "W73XGM61OaPd"
   },
   "source": [
    "---\n",
    "\n",
    "# ***04 - YOLO***\n",
    "\n",
    "---\n",
    "\n",
    "**Aprendizagem de Máquina**\n",
    "\n",
    "Gustavo H. G. Matsushita (gustavomatsushita@ufpr.br)\n",
    "\n",
    "Prof. Luiz Eduardo S. Oliveira (luiz.oliveira@ufpr.br)\n",
    "\n",
    "---\n",
    "\n",
    "**Universidade Federal do Paraná**\n",
    "\n",
    "Departamento de Informática\n",
    "\n",
    "http://web.inf.ufpr.br/luizoliveira\n",
    "\n",
    "---"
   ]
  },
  {
   "cell_type": "markdown",
   "metadata": {
    "colab_type": "text",
    "id": "WJgegC4UeN3i"
   },
   "source": [
    "**Darknet:** https://pjreddie.com/darknet/\n",
    "\n",
    "https://youtu.be/MPU2HistivI/\n",
    "\n",
    "https://youtu.be/YmbhRxQkLMg/\n",
    "\n",
    "**AlexeyAB:** https://github.com/AlexeyAB/darknet/\n"
   ]
  },
  {
   "cell_type": "markdown",
   "metadata": {
    "colab_type": "text",
    "id": "kBGQYdX7ww5Z"
   },
   "source": [
    "#Importando do Google Drive"
   ]
  },
  {
   "cell_type": "code",
   "execution_count": null,
   "metadata": {
    "colab": {},
    "colab_type": "code",
    "id": "NYrRT74AwoIz"
   },
   "outputs": [],
   "source": [
    "from google.colab import drive\n",
    "drive.mount('/content/drive', force_remount=True)"
   ]
  },
  {
   "cell_type": "markdown",
   "metadata": {
    "colab_type": "text",
    "id": "_A1VYGHzRgks"
   },
   "source": [
    "#Verificando GPU"
   ]
  },
  {
   "cell_type": "code",
   "execution_count": null,
   "metadata": {
    "colab": {},
    "colab_type": "code",
    "id": "HdgULoWDNRwh"
   },
   "outputs": [],
   "source": [
    "import tensorflow as tf\n",
    "device_name = tf.test.gpu_device_name()\n",
    "if device_name != '/device:GPU:0':\n",
    "  raise SystemError('GPU device not found')\n",
    "print('Found GPU at: {}'.format(device_name))"
   ]
  },
  {
   "cell_type": "code",
   "execution_count": null,
   "metadata": {
    "colab": {},
    "colab_type": "code",
    "id": "dC-iIEb3jK7D"
   },
   "outputs": [],
   "source": [
    "!nvidia-smi"
   ]
  },
  {
   "cell_type": "markdown",
   "metadata": {
    "colab_type": "text",
    "id": "SioLnZbFRTr8"
   },
   "source": [
    "#Instalando GCC (opcional)"
   ]
  },
  {
   "cell_type": "code",
   "execution_count": null,
   "metadata": {
    "colab": {},
    "colab_type": "code",
    "id": "fBL8D0PQpfko"
   },
   "outputs": [],
   "source": [
    "!apt install gcc-5 g++-5 -y\n",
    "!ln -s /usr/bin/gcc-5 /usr/local/cuda/bin/gcc \n",
    "!ln -s /usr/bin/g++-5 /usr/local/cuda/bin/g++"
   ]
  },
  {
   "cell_type": "markdown",
   "metadata": {
    "colab_type": "text",
    "id": "4IsV0ypAPIhx"
   },
   "source": [
    "#Clonando respositório Darknet (AlexeyAB)"
   ]
  },
  {
   "cell_type": "code",
   "execution_count": null,
   "metadata": {
    "colab": {},
    "colab_type": "code",
    "id": "LkUs7_NSpal_"
   },
   "outputs": [],
   "source": [
    "import os\n",
    "os.environ['PATH'] += ':/usr/local/cuda/bin'\n",
    "\n",
    "!rm -fr darknet\n",
    "!git clone https://github.com/AlexeyAB/darknet/"
   ]
  },
  {
   "cell_type": "markdown",
   "metadata": {
    "colab_type": "text",
    "id": "-90kUfQwSqEA"
   },
   "source": [
    "#Compilando com uso de GPU"
   ]
  },
  {
   "cell_type": "code",
   "execution_count": null,
   "metadata": {
    "colab": {},
    "colab_type": "code",
    "id": "-5FAmIJMp5Tc"
   },
   "outputs": [],
   "source": [
    "%cd darknet\n",
    "!sed -i 's/GPU=0/GPU=1/g' Makefile\n",
    "!sed -i 's/OPENCV=0/OPENCV=1/g' Makefile\n",
    "!make"
   ]
  },
  {
   "cell_type": "markdown",
   "metadata": {
    "colab_type": "text",
    "id": "bobDl-YAThaT"
   },
   "source": [
    "#Pesos pré-treinados (YOLOv3)"
   ]
  },
  {
   "cell_type": "code",
   "execution_count": null,
   "metadata": {
    "colab": {},
    "colab_type": "code",
    "id": "4UdbmlAtqlQh"
   },
   "outputs": [],
   "source": [
    "# get yolov3 weights\n",
    "!wget https://pjreddie.com/media/files/yolov3.weights\n",
    "!chmod a+x ./darknet"
   ]
  },
  {
   "cell_type": "markdown",
   "metadata": {
    "colab_type": "text",
    "id": "1nw8yAvFVTN_"
   },
   "source": [
    "#Fazendo upload de arquivos"
   ]
  },
  {
   "cell_type": "code",
   "execution_count": null,
   "metadata": {
    "colab": {},
    "colab_type": "code",
    "id": "gjQeC3fyx7jT"
   },
   "outputs": [],
   "source": [
    "from google.colab import files\n",
    "\n",
    "uploaded = files.upload()"
   ]
  },
  {
   "cell_type": "code",
   "execution_count": null,
   "metadata": {
    "colab": {},
    "colab_type": "code",
    "id": "ARBYBMmpx5iR"
   },
   "outputs": [],
   "source": [
    "!pwd\n",
    "!ls"
   ]
  },
  {
   "cell_type": "markdown",
   "metadata": {
    "colab_type": "text",
    "id": "0lvLfOWqaRz_"
   },
   "source": [
    "#Utilizando a YOLOv3 em Vídeos"
   ]
  },
  {
   "cell_type": "code",
   "execution_count": null,
   "metadata": {
    "colab": {},
    "colab_type": "code",
    "id": "d95xNmoY0w3R"
   },
   "outputs": [],
   "source": [
    "!./darknet detector demo cfg/coco.data cfg/yolov3.cfg yolov3.weights input.mp4 -dont_show -out_filename output.avi -thresh 0.7"
   ]
  },
  {
   "cell_type": "code",
   "execution_count": null,
   "metadata": {
    "colab": {},
    "colab_type": "code",
    "id": "JKCTCtUb5rsN"
   },
   "outputs": [],
   "source": [
    "!ls"
   ]
  },
  {
   "cell_type": "markdown",
   "metadata": {
    "colab_type": "text",
    "id": "g4MEXC6pcT1v"
   },
   "source": [
    "#Fazendo download do output"
   ]
  },
  {
   "cell_type": "code",
   "execution_count": null,
   "metadata": {
    "colab": {},
    "colab_type": "code",
    "id": "Amz5RZ5V8-KW"
   },
   "outputs": [],
   "source": [
    "from google.colab import files\n",
    "\n",
    "files.download('output.avi') "
   ]
  },
  {
   "cell_type": "markdown",
   "metadata": {
    "colab_type": "text",
    "id": "VHLssSzRdNED"
   },
   "source": [
    "#Utilizando a YOLOv3 em Imagens"
   ]
  },
  {
   "cell_type": "code",
   "execution_count": null,
   "metadata": {
    "colab": {},
    "colab_type": "code",
    "id": "TY9-A2kEdbv6"
   },
   "outputs": [],
   "source": [
    "uploaded = files.upload()\n",
    "\n",
    "!ls"
   ]
  },
  {
   "cell_type": "code",
   "execution_count": null,
   "metadata": {
    "colab": {},
    "colab_type": "code",
    "id": "KtaEr9YrF3-m"
   },
   "outputs": [],
   "source": [
    "#!./darknet detect cfg/yolov3.cfg yolov3.weights data/dog.jpg\n",
    "\n",
    "!./darknet detect cfg/yolov3.cfg yolov3.weights input.jpg -dont_show\n",
    "\n",
    "!ls"
   ]
  },
  {
   "cell_type": "code",
   "execution_count": null,
   "metadata": {
    "colab": {},
    "colab_type": "code",
    "id": "xkMxgVbPHY4u"
   },
   "outputs": [],
   "source": [
    "files.download('predictions.jpg')"
   ]
  },
  {
   "cell_type": "markdown",
   "metadata": {
    "colab_type": "text",
    "id": "D_vRf0IFe6mu"
   },
   "source": [
    "---\n",
    "\n",
    "#Treinando modelo\n",
    "\n",
    "---\n",
    "\n",
    "\n",
    "./darknet detector train cfg/**X.data** cfg/**Y.cfg** **Z.weights**\n",
    "\n",
    "\n",
    "*Data*\n",
    "\n",
    "    classes= 20\n",
    "    train  = .../Train.txt\n",
    "    valid  = .../Test.txt\n",
    "    names = .../Classes.names\n",
    "    backup = backup/\n",
    "\n",
    "*Cfg*\n",
    "\n",
    "    [net]\n",
    "    # Testing\n",
    "    # batch=1\n",
    "    # subdivisions=1\n",
    "    # Training\n",
    "    batch=64\n",
    "    subdivisions=8\n",
    "    ...\n",
    "\n",
    "    \n"
   ]
  }
 ],
 "metadata": {
  "accelerator": "GPU",
  "colab": {
   "authorship_tag": "ABX9TyMcygtSHnt3kFkddoVMzAJk",
   "collapsed_sections": [],
   "name": "04_YOLO.ipynb",
   "provenance": []
  },
  "kernelspec": {
   "display_name": "Python 3",
   "language": "python",
   "name": "python3"
  },
  "language_info": {
   "codemirror_mode": {
    "name": "ipython",
    "version": 3
   },
   "file_extension": ".py",
   "mimetype": "text/x-python",
   "name": "python",
   "nbconvert_exporter": "python",
   "pygments_lexer": "ipython3",
   "version": "3.8.5"
  }
 },
 "nbformat": 4,
 "nbformat_minor": 1
}
